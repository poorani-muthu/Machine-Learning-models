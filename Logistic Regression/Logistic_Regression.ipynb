{
  "nbformat": 4,
  "nbformat_minor": 0,
  "metadata": {
    "colab": {
      "provenance": []
    },
    "kernelspec": {
      "name": "python3",
      "display_name": "Python 3"
    },
    "language_info": {
      "name": "python"
    }
  },
  "cells": [
    {
      "cell_type": "code",
      "execution_count": 6,
      "metadata": {
        "colab": {
          "base_uri": "https://localhost:8080/",
          "height": 741
        },
        "id": "_TCVZkS_T9zP",
        "outputId": "8ba6d254-0d16-4cd5-ca21-12cc0d7f0f58"
      },
      "outputs": [
        {
          "output_type": "stream",
          "name": "stderr",
          "text": [
            "/usr/local/lib/python3.10/dist-packages/sklearn/preprocessing/_encoders.py:868: FutureWarning: `sparse` was renamed to `sparse_output` in version 1.2 and will be removed in 1.4. `sparse_output` is ignored unless you leave `sparse` to its default value.\n",
            "  warnings.warn(\n",
            "/usr/local/lib/python3.10/dist-packages/sklearn/preprocessing/_encoders.py:868: FutureWarning: `sparse` was renamed to `sparse_output` in version 1.2 and will be removed in 1.4. `sparse_output` is ignored unless you leave `sparse` to its default value.\n",
            "  warnings.warn(\n"
          ]
        },
        {
          "output_type": "stream",
          "name": "stdout",
          "text": [
            "[2 1 2 2 0 1 1 1 2 1 1 2 1 2 2 1 0 0 1 2 0 2 0 1 1 1 2 2 1 2 1 1 2 2 1 2 2\n",
            " 2 2 1 1 1 0 1 1 1 2 1 2 1 2 2 0 0 1 1 0 1 1 2 1 2 0 2 1 1 0 2 1 2]\n",
            "[ True  True False False  True  True  True False  True False False  True\n",
            "  True False  True False False  True False False  True  True False  True\n",
            "  True  True  True  True  True False  True False  True  True  True False\n",
            "  True  True  True False  True  True False  True False  True False  True\n",
            "  True  True False  True False  True  True  True  True False  True  True\n",
            " False  True False False False  True  True  True False False]\n",
            "[0 1 0 0 1 2 1 2 2]\n",
            "[ True  True  True  True  True  True  True  True  True]\n",
            "Model accuracy: 1.000\n"
          ]
        },
        {
          "output_type": "display_data",
          "data": {
            "text/plain": [
              "<Figure size 640x480 with 1 Axes>"
            ],
            "image/png": "[encoded data removed]"
          },
          "metadata": {}
        }
      ],
      "source": [
        "\n",
        "import numpy as np\n",
        "import pandas as pd\n",
        "import matplotlib.pyplot as plot\n",
        "from sklearn.preprocessing import OneHotEncoder\n",
        "from scipy.special import softmax\n",
        "onehot_encoder = OneHotEncoder(sparse=False)\n",
        "from sklearn.datasets import make_classification\n",
        "from sklearn.model_selection import train_test_split\n",
        "from sklearn.metrics import balanced_accuracy_score\n",
        "\n",
        "# Split sizes\n",
        "train_size = 0.70\n",
        "val_size = 0.15\n",
        "test_size = 0.3\n",
        "X,Y=make_classification(n_samples=100, n_features=5, n_informative=3 , n_classes=3)\n",
        "\n",
        "# Split (train)\n",
        "X, X_, Y, y_ = train_test_split(X, Y, train_size=train_size, stratify=Y)\n",
        "\n",
        "# Split (test)\n",
        "X_val, X_test, y_val, Y_test = train_test_split(X_, y_, train_size=0.7, stratify=y_)\n",
        "\n",
        "def loss(X, Y, W):\n",
        "\n",
        "    Z = - X @ W\n",
        "    N = X.shape[0]\n",
        "    loss = 1/N * (np.trace(X @ W @ Y.T) + np.sum(np.log(np.sum(np.exp(Z), axis=1))))\n",
        "    return loss\n",
        "\n",
        "def gradient(X, Y, W, mu):\n",
        "\n",
        "    Z = - X @ W\n",
        "    P = softmax(Z, axis=1)\n",
        "    N = X.shape[0]\n",
        "    gd = 1/N * (X.T @ (Y - P)) + 2 * mu * W\n",
        "    return gd\n",
        "\n",
        "def gradient_descent(X, Y, max_iter=1000, eta=0.1, mu=0.01):\n",
        "\n",
        "    Y_onehot = onehot_encoder.fit_transform(Y.reshape(-1,1))\n",
        "    global W\n",
        "    W = np.zeros((X.shape[1], Y_onehot.shape[1]))\n",
        "    step = 0\n",
        "    step_lst = []\n",
        "    loss_lst = []\n",
        "    W_lst = []\n",
        "\n",
        "    while step < max_iter:\n",
        "        step += 1\n",
        "        W -= eta * gradient(X, Y_onehot, W, mu)\n",
        "        step_lst.append(step)\n",
        "        W_lst.append(W)\n",
        "        loss_lst.append(loss(X, Y_onehot, W))\n",
        "\n",
        "    df = pd.DataFrame({\n",
        "        'step': step_lst,\n",
        "        'loss': loss_lst\n",
        "    })\n",
        "    return df, W\n",
        "\n",
        "class Multiclass:\n",
        "    def fit(self, X, Y):\n",
        "        self.loss_steps, self.W = gradient_descent(X, Y)\n",
        "\n",
        "    def loss_plot(self):\n",
        "        return self.loss_steps.plot(\n",
        "            x='step',\n",
        "            y='loss',\n",
        "            xlabel='step',\n",
        "            ylabel='loss'\n",
        "        )\n",
        "\n",
        "    def predict(self, H):\n",
        "        Z = - H @ self.W\n",
        "        P = softmax(Z, axis=1)\n",
        "        return (np.argmax(P, axis=1))\n",
        "\n",
        "\n",
        "# fit model\n",
        "model = Multiclass()\n",
        "model.fit(X, Y)\n",
        "\n",
        "# plot loss, prediction and comparison with actual value\n",
        "model.loss_plot()\n",
        "\n",
        "print(model.predict(X))\n",
        "\n",
        "print(model.predict(X) == Y)\n",
        "\n",
        "#-----------------------------------------------------------------testing the model------------------------------------------------------------------------\n",
        "\n",
        "#test set\n",
        "model = Multiclass()\n",
        "model.fit(X_test, Y_test)\n",
        "\n",
        "# plot loss, prediction and comparison with actual value\n",
        "\n",
        "Z_p = - X_test @ W\n",
        "P= softmax(Z_p, axis=1)\n",
        "Y_pred=np.argmax(P, axis=1)\n",
        "print(Y_pred)\n",
        "\n",
        "print(Y_pred == Y_test)\n",
        "print('Model accuracy: {:.3f}'.format(balanced_accuracy_score(Y_test,Y_pred)))\n"
      ]
    },
    {
      "cell_type": "code",
      "source": [],
      "metadata": {
        "id": "96DqTWUoUN-T"
      },
      "execution_count": 3,
      "outputs": []
    }
  ]
}